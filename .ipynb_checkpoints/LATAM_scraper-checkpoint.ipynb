{
 "cells": [
  {
   "cell_type": "markdown",
   "metadata": {
    "colab_type": "text",
    "id": "Kpqd_2H7MCnd"
   },
   "source": [
    "# LATAM Airlines\n",
    "\n",
    "Scrapear el sitio de Despegar para averiguar datos de vuelos en función del **origen** y **destino**, **fecha** y **cabina**. La información que esperamos obtener de cada vuelo es:\n",
    "\n",
    "- Precios(s) disponibles\n",
    "- Horas de salida y llegada (duración)\n",
    "- Información de las escalas\n",
    "\n",
    "**NOTA**: en caso de no poder acceder (status_code = 403), buscar un sitio similar.\n",
    "\n",
    "www.edestinos.com"
   ]
  },
  {
   "cell_type": "code",
   "execution_count": 69,
   "metadata": {
    "colab": {},
    "colab_type": "code",
    "id": "NjsV4yroL64O"
   },
   "outputs": [],
   "source": [
    "import requests\n",
    "from bs4 import BeautifulSoup"
   ]
  },
  {
   "cell_type": "code",
   "execution_count": 70,
   "metadata": {
    "colab": {},
    "colab_type": "code",
    "id": "lep5CmgAMKOp"
   },
   "outputs": [],
   "source": [
    "#url = 'https://www.edestinos.com/flights/select/oneway/ap/mvd/ap/for?departureDate=2020-12-10&pa=1&py=0&pc=0&pi=0&sc=economy'"
   ]
  },
  {
   "cell_type": "code",
   "execution_count": 71,
   "metadata": {},
   "outputs": [],
   "source": [
    "url = 'https://www.latam.com/es_uy/apps/personas/booking?fecha1_dia=04&fecha1_anomes=2020-11&from_city1=MVD&to_city1=MAD&ida_vuelta=ida_vuelta&fecha2_dia=21&fecha2_anomes=2020-11&from_city2=MAD&to_city2=MVD&cabina=Y&nadults=1&nchildren=0&ninfants=0&app=deal-finder#/'"
   ]
  },
  {
   "cell_type": "code",
   "execution_count": 72,
   "metadata": {
    "colab": {},
    "colab_type": "code",
    "id": "Y0m1d0YvMOSf"
   },
   "outputs": [],
   "source": [
    "r = requests.get(url)"
   ]
  },
  {
   "cell_type": "code",
   "execution_count": 73,
   "metadata": {
    "colab": {
     "base_uri": "https://localhost:8080/",
     "height": 34
    },
    "colab_type": "code",
    "id": "JWaPeUvoMRTz",
    "outputId": "be2c9abd-58be-4993-e52d-74e58637b456"
   },
   "outputs": [
    {
     "data": {
      "text/plain": [
       "403"
      ]
     },
     "execution_count": 73,
     "metadata": {},
     "output_type": "execute_result"
    }
   ],
   "source": [
    "r.status_code"
   ]
  },
  {
   "cell_type": "code",
   "execution_count": 74,
   "metadata": {
    "colab": {},
    "colab_type": "code",
    "id": "y5ZN18kyMT8k"
   },
   "outputs": [],
   "source": [
    "soup = BeautifulSoup(r.text, 'lxml')"
   ]
  },
  {
   "cell_type": "code",
   "execution_count": 75,
   "metadata": {
    "colab": {},
    "colab_type": "code",
    "id": "lu-MkBkGMXZY"
   },
   "outputs": [],
   "source": [
    "# Importar Selenium (webdriver)\n",
    "\n",
    "from selenium import webdriver"
   ]
  },
  {
   "cell_type": "code",
   "execution_count": 76,
   "metadata": {
    "colab": {},
    "colab_type": "code",
    "id": "RZHY9mIFMac2"
   },
   "outputs": [],
   "source": [
    "# Iniciar navegador automatico\n",
    "options = webdriver.ChromeOptions()\n",
    "options.add_argument('--incognito')\n",
    "\n",
    "driver = webdriver.Chrome(executable_path='/Users/Martin/Documents/Proyectos/Airlines_scrapper/chromedriver', options=options)"
   ]
  },
  {
   "cell_type": "code",
   "execution_count": 77,
   "metadata": {
    "colab": {},
    "colab_type": "code",
    "id": "YUBZrqeGMoQu"
   },
   "outputs": [],
   "source": [
    "driver.get(url)"
   ]
  },
  {
   "cell_type": "code",
   "execution_count": 80,
   "metadata": {},
   "outputs": [
    {
     "data": {
      "text/plain": [
       "6"
      ]
     },
     "execution_count": 80,
     "metadata": {},
     "output_type": "execute_result"
    }
   ],
   "source": [
    "# Extraer informacion de la pagina\n",
    "\n",
    "vuelos = driver.find_elements_by_xpath('//li[@class=\"flight\"]') # // buscar en todo el arbol\n",
    "len(vuelos)"
   ]
  },
  {
   "cell_type": "code",
   "execution_count": 13,
   "metadata": {},
   "outputs": [],
   "source": [
    "vuelo = vuelos[0]"
   ]
  },
  {
   "cell_type": "code",
   "execution_count": null,
   "metadata": {},
   "outputs": [],
   "source": [
    "vuelo"
   ]
  },
  {
   "cell_type": "markdown",
   "metadata": {},
   "source": [
    "**Extrayendo horarios y duración**"
   ]
  },
  {
   "cell_type": "code",
   "execution_count": 14,
   "metadata": {},
   "outputs": [
    {
     "data": {
      "text/plain": [
       "'11:18'"
      ]
     },
     "execution_count": 14,
     "metadata": {},
     "output_type": "execute_result"
    }
   ],
   "source": [
    "#Hora de partida\n",
    "vuelo.find_element_by_xpath('.//div[@class=\"departure\"]/time').get_attribute('datetime') # . buscar desde allí hacia abajo"
   ]
  },
  {
   "cell_type": "code",
   "execution_count": 15,
   "metadata": {},
   "outputs": [
    {
     "data": {
      "text/plain": [
       "'12:50'"
      ]
     },
     "execution_count": 15,
     "metadata": {},
     "output_type": "execute_result"
    }
   ],
   "source": [
    "#Hora de llegada\n",
    "vuelo.find_element_by_xpath('.//div[@class=\"arrival\"]/time').get_attribute('datetime')\n"
   ]
  },
  {
   "cell_type": "code",
   "execution_count": 16,
   "metadata": {},
   "outputs": [
    {
     "data": {
      "text/plain": [
       "'PT21H32M'"
      ]
     },
     "execution_count": 16,
     "metadata": {},
     "output_type": "execute_result"
    }
   ],
   "source": [
    "# Duración de vuelo\n",
    "vuelo.find_element_by_xpath('.//span[@class=\"duration\"]/time').get_attribute('datetime')"
   ]
  },
  {
   "cell_type": "markdown",
   "metadata": {},
   "source": [
    "**Contando escalas e interactuando con elementos del sitio**"
   ]
  },
  {
   "cell_type": "code",
   "execution_count": 17,
   "metadata": {},
   "outputs": [],
   "source": [
    "boton_escalas = vuelo.find_element_by_xpath('.//div[@class=\"flight-summary-stops-description\"]/button')"
   ]
  },
  {
   "cell_type": "code",
   "execution_count": 18,
   "metadata": {},
   "outputs": [],
   "source": [
    "boton_escalas.click() #click en boton"
   ]
  },
  {
   "cell_type": "code",
   "execution_count": 19,
   "metadata": {},
   "outputs": [
    {
     "data": {
      "text/plain": [
       "[<selenium.webdriver.remote.webelement.WebElement (session=\"5feffdd59576557aa98daaa3562b2eb5\", element=\"0abd0b35-b010-483c-a036-3c345dcf67d5\")>,\n",
       " <selenium.webdriver.remote.webelement.WebElement (session=\"5feffdd59576557aa98daaa3562b2eb5\", element=\"d5ac38f3-a698-45ee-897b-f805ce000406\")>]"
      ]
     },
     "execution_count": 19,
     "metadata": {},
     "output_type": "execute_result"
    }
   ],
   "source": [
    "# Segmentos del contenido en donde se ven las escalas\n",
    "segmentos = vuelo.find_elements_by_xpath('//div[@class=\"sc-hZSUBg gfeULV\"]/div[@class=\"sc-cLQEGU hyoued\"]')\n",
    "# Sin '.' porque busco todo el album.\n",
    "segmentos"
   ]
  },
  {
   "cell_type": "code",
   "execution_count": 20,
   "metadata": {},
   "outputs": [
    {
     "name": "stdout",
     "output_type": "stream",
     "text": [
      "El vuelo de MVD a MAD tiene 1 escala(s).\n"
     ]
    }
   ],
   "source": [
    "escalas = len(segmentos) - 1 # Porque cuenta desde salida/escala y escala/salida\n",
    "print(f'El vuelo de MVD a MAD tiene {escalas} escala(s).')"
   ]
  },
  {
   "cell_type": "markdown",
   "metadata": {},
   "source": [
    "**Desafío: Escalas**"
   ]
  },
  {
   "cell_type": "markdown",
   "metadata": {},
   "source": [
    "- **Escala #1**"
   ]
  },
  {
   "cell_type": "code",
   "execution_count": 21,
   "metadata": {},
   "outputs": [],
   "source": [
    "segmento = segmentos[0]"
   ]
  },
  {
   "cell_type": "code",
   "execution_count": 22,
   "metadata": {},
   "outputs": [
    {
     "data": {
      "text/plain": [
       "'Carrasco Intl.'"
      ]
     },
     "execution_count": 22,
     "metadata": {},
     "output_type": "execute_result"
    }
   ],
   "source": [
    "# Aeropuerto de salida\n",
    "segmento.find_element_by_xpath('.//div[@class=\"sc-iujRgT jEtESl\"]/span[@class=\"sc-eTuwsz eumCTU\"]/span[@class=\"sc-hXRMBi gVvErD\"]').text \n"
   ]
  },
  {
   "cell_type": "code",
   "execution_count": 23,
   "metadata": {},
   "outputs": [
    {
     "data": {
      "text/plain": [
       "'11:18'"
      ]
     },
     "execution_count": 23,
     "metadata": {},
     "output_type": "execute_result"
    }
   ],
   "source": [
    "# Hora de salida\n",
    "segmento.find_element_by_xpath('.//div[@class=\"sc-bwCtUz iybVbT\"]/time').get_attribute('datetime')"
   ]
  },
  {
   "cell_type": "code",
   "execution_count": 24,
   "metadata": {},
   "outputs": [
    {
     "data": {
      "text/plain": [
       "'Salida a las 11 Horas 18 Minutos, de Carrasco Intl.'"
      ]
     },
     "execution_count": 24,
     "metadata": {},
     "output_type": "execute_result"
    }
   ],
   "source": [
    "segmento.find_element_by_xpath('.//div[@class=\"sc-bwCtUz iybVbT\"]/span[@class=\"sr-only\"]').text"
   ]
  },
  {
   "cell_type": "code",
   "execution_count": 25,
   "metadata": {},
   "outputs": [
    {
     "data": {
      "text/plain": [
       "'2:32'"
      ]
     },
     "execution_count": 25,
     "metadata": {},
     "output_type": "execute_result"
    }
   ],
   "source": [
    "# Duración de vuelo a próxima escala\n",
    "segmento.find_element_by_xpath('.//div[@class=\"sc-eXEjpC fqUnRK\"]/span[@class=\"sc-esjQYD dMquDU\"]/time').get_attribute('datetime')"
   ]
  },
  {
   "cell_type": "code",
   "execution_count": 26,
   "metadata": {},
   "outputs": [
    {
     "name": "stdout",
     "output_type": "stream",
     "text": [
      "Conexión en Santiago de Chile -- (cambio de avión)\n"
     ]
    }
   ],
   "source": [
    "try:    \n",
    "    combinacion = segmento.find_element_by_xpath('//div[@class=\"sc-hMFtBS cfwWiO\"]/span[@class=\"connection-label sc-hORach NXcGo\"]').text\n",
    "    cambio_avion = segmento.find_element_by_xpath('//div[@class=\"sc-hMFtBS cfwWiO\"]/span[@class=\"connection-changes sc-hORach NXcGo\"]').text\n",
    "    print(f'{combinacion} -- {cambio_avion}')\n",
    "except:\n",
    "    print('Revise XPath.')\n",
    "    pass\n",
    "\n"
   ]
  },
  {
   "cell_type": "code",
   "execution_count": 27,
   "metadata": {},
   "outputs": [
    {
     "name": "stdout",
     "output_type": "stream",
     "text": [
      "Flota LA405 - Airbus 320-200\n"
     ]
    }
   ],
   "source": [
    "modelo_avion = segmento.find_element_by_xpath('//div[@class=\"airline-flight-details\"]/span[@class=\"sc-gzOgki uTyOl\"]').text\n",
    "flota = segmento.find_element_by_xpath('//div[@class=\"airline-flight-details\"]/b').text\n",
    "\n",
    "print(f'Flota {flota} - {modelo_avion}')"
   ]
  },
  {
   "cell_type": "markdown",
   "metadata": {},
   "source": [
    "- **Escala #2**"
   ]
  },
  {
   "cell_type": "code",
   "execution_count": 28,
   "metadata": {},
   "outputs": [],
   "source": [
    "segmento_2 = segmentos[1]"
   ]
  },
  {
   "cell_type": "code",
   "execution_count": 29,
   "metadata": {},
   "outputs": [
    {
     "data": {
      "text/plain": [
       "'A. Merino Benítez Intl.'"
      ]
     },
     "execution_count": 29,
     "metadata": {},
     "output_type": "execute_result"
    }
   ],
   "source": [
    "# Aeropuerto de salida\n",
    "segmento_2.find_element_by_xpath('.//div[@class=\"sc-iujRgT jEtESl\"]/span[@class=\"sc-eTuwsz eumCTU\"]/span[@class=\"sc-hXRMBi gVvErD\"]').text "
   ]
  },
  {
   "cell_type": "code",
   "execution_count": 30,
   "metadata": {},
   "outputs": [
    {
     "data": {
      "text/plain": [
       "'19:55'"
      ]
     },
     "execution_count": 30,
     "metadata": {},
     "output_type": "execute_result"
    }
   ],
   "source": [
    "# Hora de salida\n",
    "segmento_2.find_element_by_xpath('.//div[@class=\"sc-bwCtUz iybVbT\"]/time').get_attribute('datetime')"
   ]
  },
  {
   "cell_type": "code",
   "execution_count": 31,
   "metadata": {},
   "outputs": [
    {
     "data": {
      "text/plain": [
       "'Salida a las 19 Horas 55 Minutos, de A. Merino Benítez Intl.'"
      ]
     },
     "execution_count": 31,
     "metadata": {},
     "output_type": "execute_result"
    }
   ],
   "source": [
    "segmento_2.find_element_by_xpath('.//div[@class=\"sc-bwCtUz iybVbT\"]/span[@class=\"sr-only\"]').text\n"
   ]
  },
  {
   "cell_type": "code",
   "execution_count": 32,
   "metadata": {},
   "outputs": [
    {
     "data": {
      "text/plain": [
       "'12:55'"
      ]
     },
     "execution_count": 32,
     "metadata": {},
     "output_type": "execute_result"
    }
   ],
   "source": [
    "# Duración de vuelo a próxima escala\n",
    "segmento_2.find_element_by_xpath('.//div[@class=\"sc-eXEjpC fqUnRK\"]/span[@class=\"sc-esjQYD dMquDU\"]/time').get_attribute('datetime')"
   ]
  },
  {
   "cell_type": "code",
   "execution_count": 33,
   "metadata": {},
   "outputs": [
    {
     "name": "stdout",
     "output_type": "stream",
     "text": [
      "Flota LA405 - Airbus 320-200\n"
     ]
    }
   ],
   "source": [
    "modelo_avion = segmento_2.find_element_by_xpath('//div[@class=\"airline-flight-details\"]/span[@class=\"sc-gzOgki uTyOl\"]').text\n",
    "flota = segmento_2.find_element_by_xpath('//div[@class=\"airline-flight-details\"]/b').text\n",
    "\n",
    "print(f'Flota {flota} - {modelo_avion}')"
   ]
  },
  {
   "cell_type": "markdown",
   "metadata": {},
   "source": [
    "- **Tarifas**"
   ]
  },
  {
   "cell_type": "code",
   "execution_count": 34,
   "metadata": {},
   "outputs": [],
   "source": [
    "driver.find_element_by_xpath('//div[@class=\"modal-content sc-iwsKbI eHVGAN\"]//button[@class=\"close\"]').click()"
   ]
  },
  {
   "cell_type": "code",
   "execution_count": 35,
   "metadata": {},
   "outputs": [],
   "source": [
    "vuelo.click()"
   ]
  },
  {
   "cell_type": "code",
   "execution_count": 51,
   "metadata": {},
   "outputs": [
    {
     "data": {
      "text/plain": [
       "[<selenium.webdriver.remote.webelement.WebElement (session=\"5feffdd59576557aa98daaa3562b2eb5\", element=\"a12f70a1-d69c-4701-a04c-9038e62bb74a\")>,\n",
       " <selenium.webdriver.remote.webelement.WebElement (session=\"5feffdd59576557aa98daaa3562b2eb5\", element=\"c015e3a5-56d9-4976-bb14-073d90fc0a1e\")>,\n",
       " <selenium.webdriver.remote.webelement.WebElement (session=\"5feffdd59576557aa98daaa3562b2eb5\", element=\"c26c9dc4-4db6-4bcf-b2d7-677cd04a69eb\")>]"
      ]
     },
     "execution_count": 51,
     "metadata": {},
     "output_type": "execute_result"
    }
   ],
   "source": [
    "divisas = vuelo.find_elements_by_xpath('.//div[@class=\"fares-table-container\"]//tfoot//td[contains(@class, \"fare-\")]//span[@class=\"currency-symbol\"]')\n",
    "valores = vuelo.find_elements_by_xpath('.//div[@class=\"fares-table-container\"]//tfoot//td[contains(@class, \"fare-\")]//span[@class=\"value\"]')\n",
    "\n",
    "divisas"
   ]
  },
  {
   "cell_type": "code",
   "execution_count": 54,
   "metadata": {},
   "outputs": [
    {
     "data": {
      "text/plain": [
       "'US$'"
      ]
     },
     "execution_count": 54,
     "metadata": {},
     "output_type": "execute_result"
    }
   ],
   "source": [
    "divisa = divisas[0]\n",
    "divisa.text"
   ]
  },
  {
   "cell_type": "code",
   "execution_count": 58,
   "metadata": {},
   "outputs": [
    {
     "name": "stdout",
     "output_type": "stream",
     "text": [
      "US$332\n"
     ]
    }
   ],
   "source": [
    "moneda = valores[0]\n",
    "print(divisa.text + moneda.text)"
   ]
  },
  {
   "cell_type": "code",
   "execution_count": 63,
   "metadata": {},
   "outputs": [
    {
     "data": {
      "text/plain": [
       "{'Light': 'US$ 332', 'Plus': 'US$ 385', 'Top': 'US$ 445'}"
      ]
     },
     "execution_count": 63,
     "metadata": {},
     "output_type": "execute_result"
    }
   ],
   "source": [
    "caca = []\n",
    "\n",
    "for d in divisas:\n",
    "    for v in valores:\n",
    "        precio = d.text + ' ' + v.text\n",
    "        caca.append(precio)\n",
    "    break\n",
    "\n",
    "\n",
    "tarifas = {\n",
    "    'Light':caca[0],\n",
    "    'Plus':caca[1],\n",
    "    'Top':caca[2]\n",
    "}\n",
    "tarifas"
   ]
  },
  {
   "cell_type": "code",
   "execution_count": 64,
   "metadata": {},
   "outputs": [
    {
     "name": "stdout",
     "output_type": "stream",
     "text": [
      "Se encontraron 0 vuelos.\n",
      "Iniciando scraping...\n"
     ]
    }
   ],
   "source": []
  },
  {
   "cell_type": "code",
   "execution_count": 83,
   "metadata": {},
   "outputs": [],
   "source": [
    "def _get_tarifa(vuelo):\n",
    "\tdivisas = vuelo.find_elements_by_xpath('.//div[@class=\"fares-table-container\"]//tfoot//td[contains(@class, \"fare-\")]//span[@class=\"currency-symbol\"]')\n",
    "\tvalor = vuelo.find_elements_by_xpath('.//div[@class=\"fares-table-container\"]//tfoot//td[contains(@class, \"fare-\")]//span[@class=\"value\"]')\n",
    "\n",
    "\tprecios = []\n",
    "\n",
    "\tfor d in divisas:\n",
    "\t\tfor v in valores:\n",
    "\t\t\tprecio = d.text + ' ' + v.text\n",
    "\t\t\tprecios.append(precio)\n",
    "\t\tbreak\n",
    "\t\n",
    "\n",
    "\ttarifas = {\n",
    "\t\t'Light':precios[0],\n",
    "    \t'Plus':precios[1],\n",
    "    \t'Top':precios[2]\n",
    "\t\t}\n",
    "\n",
    "\treturn tarifas\n",
    "\n",
    "def _get_escalas(vuelo):\n",
    "\t# Segmentos del contenido en donde se ven las escalas\n",
    "\tsegmentos = vuelo.find_elements_by_xpath('//div[@class=\"sc-hZSUBg gfeULV\"]/div[@class=\"sc-cLQEGU hyoued\"]')\n",
    "\tescalas = len(segmentos) - 1 # Porque cuenta desde salida/escala y escala/salida\n",
    "\tprint(f'El vuelo de MVD a MAD tiene {escalas} escala(s).')\n",
    "\n",
    "\tinfo_escalas = []\n",
    "\tfor segmento in segmentos:\n",
    "\t\t# Aeropuerto de salida\n",
    "\t\tairport = segmento.find_element_by_xpath('.//div[@class=\"sc-iujRgT jEtESl\"]/span[@class=\"sc-eTuwsz eumCTU\"]/span[@class=\"sc-hXRMBi gVvErD\"]').text \n",
    "\t\t# Hora de salida\n",
    "\t\th_salida = segmento.find_element_by_xpath('.//div[@class=\"sc-bwCtUz iybVbT\"]/time').get_attribute('datetime')\n",
    "\t\t# Duración de vuelo a próxima escala\n",
    "\t\tduracion = segmento.find_element_by_xpath('.//div[@class=\"sc-eXEjpC fqUnRK\"]/span[@class=\"sc-esjQYD dMquDU\"]/time').get_attribute('datetime')\n",
    "\t\t# Info de combinación\n",
    "\t\ttry:    \n",
    "\t\t    combinacion = segmento.find_element_by_xpath('//div[@class=\"sc-hMFtBS cfwWiO\"]/span[@class=\"connection-label sc-hORach NXcGo\"]').text\n",
    "\t\t    cambio_avion = segmento.find_element_by_xpath('//div[@class=\"sc-hMFtBS cfwWiO\"]/span[@class=\"connection-changes sc-hORach NXcGo\"]').text\n",
    "\t\t    info = f'{combinacion} -- {cambio_avion}'\n",
    "\t\texcept:\n",
    "\t\t    print('Revise XPath.')\n",
    "\t\t    pass\n",
    "\t\t# Flota\n",
    "\t\tflota = segmento.find_element_by_xpath('//div[@class=\"airline-flight-details\"]/b').text\n",
    "\t\t# Modelo de avón\n",
    "\t\tmodelo_avion = segmento.find_element_by_xpath('//div[@class=\"airline-flight-details\"]/span[@class=\"sc-gzOgki uTyOl\"]').text\n",
    "\n",
    "\t\tdata_escalas = {\n",
    "\t\t\t'Aeropuerto': airport,\n",
    "\t\t\t'Hora de salida': h_salida,\n",
    "\t\t\t'Duración p/ escala': duracion,\n",
    "\t\t\t'Info de conexión': info,\n",
    "\t\t\t'Flota': flota,\n",
    "\t\t\t'Avión': modelo_avion\n",
    "\t\t}\n",
    "\t\tinfo_escalas.append(data_escalas)\n",
    "\n",
    "\treturn info_escalas\n",
    "\n",
    "def _get_tiempos(vuelo):\n",
    "\t\n",
    "\t#Hora de partida\n",
    "\th_salida = vuelo.find_element_by_xpath('.//div[@class=\"departure\"]/time').get_attribute('datetime')\n",
    "\t#Hora de llegada\n",
    "\th_llegada = vuelo.find_element_by_xpath('.//div[@class=\"arrival\"]/time').get_attribute('datetime')\n",
    "\t# Duración de vuelo\n",
    "\tduracion = vuelo.find_element_by_xpath('.//span[@class=\"duration\"]/time').get_attribute('datetime')\n",
    "\n",
    "\tdata_tiempos = {\n",
    "\t\t'Hora de salida':h_salida,\n",
    "\t\t'Hora de llegada':h_llegada,\n",
    "\t\t'Duración':duracion\n",
    "\t}\n",
    "\treturn data_tiempos\n",
    "\n",
    "def main_get_info(driver):\n",
    "\t\n",
    "\t# Extraer informacion de la pagina\n",
    "\tvueles = vuelos\n",
    "\tprint(f'Se encontraron {len(vuelos)} vuelos.')\n",
    "\tprint('Iniciando scraping...')\n",
    "\tinfo = []\n",
    "\tfor vuelo in vueles:\n",
    "\t\ttiempos = _get_tiempos(vuelo)\n",
    "\t\t\n",
    "\t\t# Click en modal para conocer escalas\n",
    "\t\tboton_escalas = vuelo.find_element_by_xpath('.//div[@class=\"flight-summary-stops-description\"]/button')\n",
    "\t\tboton_escalas.click()\n",
    "\n",
    "\t\t# Obtener escalas\n",
    "\t\tescalas = _get_escalas(vuelo)\n",
    "\t\t\n",
    "\t\t# Cerrar modal\n",
    "\t\tcerrar_modal = driver.find_element_by_xpath('//div[@class=\"modal-content sc-iwsKbI eHVGAN\"]//button[@class=\"close\"]')\n",
    "\t\tcerrar_modal.click()\n",
    "\t\tvuelo.click()\n",
    "\n",
    "\t\t# Obtener tarifas\n",
    "\t\ttarifas = _get_tarifa(vuelo)\n",
    "\n",
    "\t\tdata_info = {\n",
    "\t\t\t'Tiempos':tiempos,\n",
    "\t\t\t'Escalas':escalas,\n",
    "\t\t\t'Tarifas':tarifas\n",
    "\t\t}\n",
    "\t\tinfo.append(data_info)\n",
    "\n",
    "\treturn info\n"
   ]
  },
  {
   "cell_type": "code",
   "execution_count": 84,
   "metadata": {},
   "outputs": [
    {
     "name": "stdout",
     "output_type": "stream",
     "text": [
      "Se encontraron 6 vuelos.\n",
      "Iniciando scraping...\n",
      "El vuelo de MVD a MAD tiene 1 escala(s).\n",
      "El vuelo de MVD a MAD tiene 1 escala(s).\n",
      "El vuelo de MVD a MAD tiene 2 escala(s).\n",
      "El vuelo de MVD a MAD tiene 2 escala(s).\n",
      "El vuelo de MVD a MAD tiene 2 escala(s).\n",
      "El vuelo de MVD a MAD tiene 2 escala(s).\n"
     ]
    },
    {
     "data": {
      "text/plain": [
       "[{'Tiempos': {'Hora de salida': '11:18',\n",
       "   'Hora de llegada': '12:50',\n",
       "   'Duración': 'PT21H32M'},\n",
       "  'Escalas': [{'Aeropuerto': 'Carrasco Intl.',\n",
       "    'Hora de salida': '11:18',\n",
       "    'Duración p/ escala': '2:32',\n",
       "    'Info de conexión': 'Conexión en Santiago de Chile -- (cambio de avión)',\n",
       "    'Flota': 'LA405',\n",
       "    'Avión': 'Airbus 320-200'},\n",
       "   {'Aeropuerto': 'A. Merino Benítez Intl.',\n",
       "    'Hora de salida': '19:55',\n",
       "    'Duración p/ escala': '12:55',\n",
       "    'Info de conexión': 'Conexión en Santiago de Chile -- (cambio de avión)',\n",
       "    'Flota': 'LA405',\n",
       "    'Avión': 'Airbus 320-200'}],\n",
       "  'Tarifas': {'Light': ' 332', 'Plus': ' 385', 'Top': ' 445'}},\n",
       " {'Tiempos': {'Hora de salida': '10:50',\n",
       "   'Hora de llegada': '13:10',\n",
       "   'Duración': 'PT22H20M'},\n",
       "  'Escalas': [{'Aeropuerto': 'Carrasco Intl.',\n",
       "    'Hora de salida': '10:50',\n",
       "    'Duración p/ escala': '2:15',\n",
       "    'Info de conexión': 'Conexión en San Pablo -- (cambio de avión)',\n",
       "    'Flota': 'LA8047',\n",
       "    'Avión': 'Airbus 320-200'},\n",
       "   {'Aeropuerto': 'Guarulhos Intl.',\n",
       "    'Hora de salida': '22:55',\n",
       "    'Duración p/ escala': '10:15',\n",
       "    'Info de conexión': 'Conexión en San Pablo -- (cambio de avión)',\n",
       "    'Flota': 'LA8047',\n",
       "    'Avión': 'Airbus 320-200'}],\n",
       "  'Tarifas': {'Light': ' 332', 'Plus': ' 385', 'Top': ' 445'}},\n",
       " {'Tiempos': {'Hora de salida': '11:18',\n",
       "   'Hora de llegada': '13:10',\n",
       "   'Duración': 'PT21H52M'},\n",
       "  'Escalas': [{'Aeropuerto': 'Carrasco Intl.',\n",
       "    'Hora de salida': '11:18',\n",
       "    'Duración p/ escala': '2:32',\n",
       "    'Info de conexión': 'Conexión en Santiago de Chile -- (cambio de avión)',\n",
       "    'Flota': 'LA405',\n",
       "    'Avión': 'Airbus 320-200'},\n",
       "   {'Aeropuerto': 'A. Merino Benítez Intl.',\n",
       "    'Hora de salida': '17:45',\n",
       "    'Duración p/ escala': '3:45',\n",
       "    'Info de conexión': 'Conexión en Santiago de Chile -- (cambio de avión)',\n",
       "    'Flota': 'LA405',\n",
       "    'Avión': 'Airbus 320-200'},\n",
       "   {'Aeropuerto': 'Guarulhos Intl.',\n",
       "    'Hora de salida': '22:55',\n",
       "    'Duración p/ escala': '10:15',\n",
       "    'Info de conexión': 'Conexión en Santiago de Chile -- (cambio de avión)',\n",
       "    'Flota': 'LA405',\n",
       "    'Avión': 'Airbus 320-200'}],\n",
       "  'Tarifas': {'Light': ' 332', 'Plus': ' 385', 'Top': ' 445'}},\n",
       " {'Tiempos': {'Hora de salida': '18:37',\n",
       "   'Hora de llegada': '17:05',\n",
       "   'Duración': 'PT42H28M'},\n",
       "  'Escalas': [{'Aeropuerto': 'Carrasco Intl.',\n",
       "    'Hora de salida': '18:37',\n",
       "    'Duración p/ escala': '2:33',\n",
       "    'Info de conexión': 'Conexión en Santiago de Chile -- (cambio de avión)',\n",
       "    'Flota': 'LA409',\n",
       "    'Avión': 'Airbus 320-200'},\n",
       "   {'Aeropuerto': 'A. Merino Benítez Intl.',\n",
       "    'Hora de salida': '08:16',\n",
       "    'Duración p/ escala': '3:44',\n",
       "    'Info de conexión': 'Conexión en Santiago de Chile -- (cambio de avión)',\n",
       "    'Flota': 'LA409',\n",
       "    'Avión': 'Airbus 320-200'},\n",
       "   {'Aeropuerto': 'J Chávez Intl.',\n",
       "    'Hora de salida': '22:55',\n",
       "    'Duración p/ escala': '12:10',\n",
       "    'Info de conexión': 'Conexión en Santiago de Chile -- (cambio de avión)',\n",
       "    'Flota': 'LA409',\n",
       "    'Avión': 'Airbus 320-200'}],\n",
       "  'Tarifas': {'Light': ' 332', 'Plus': ' 385', 'Top': ' 445'}},\n",
       " {'Tiempos': {'Hora de salida': '18:37',\n",
       "   'Hora de llegada': '05:50',\n",
       "   'Duración': 'PT31H13M'},\n",
       "  'Escalas': [{'Aeropuerto': 'Carrasco Intl.',\n",
       "    'Hora de salida': '18:37',\n",
       "    'Duración p/ escala': '2:33',\n",
       "    'Info de conexión': 'Conexión en Santiago de Chile -- (cambio de avión)',\n",
       "    'Flota': 'LA409',\n",
       "    'Avión': 'Airbus 320-200'},\n",
       "   {'Aeropuerto': 'A. Merino Benítez Intl.',\n",
       "    'Hora de salida': '05:21',\n",
       "    'Duración p/ escala': '3:44',\n",
       "    'Info de conexión': 'Conexión en Santiago de Chile -- (cambio de avión)',\n",
       "    'Flota': 'LA409',\n",
       "    'Avión': 'Airbus 320-200'},\n",
       "   {'Aeropuerto': 'J Chávez Intl.',\n",
       "    'Hora de salida': '12:25',\n",
       "    'Duración p/ escala': '11:25',\n",
       "    'Info de conexión': 'Conexión en Santiago de Chile -- (cambio de avión)',\n",
       "    'Flota': 'LA409',\n",
       "    'Avión': 'Airbus 320-200'}],\n",
       "  'Tarifas': {'Light': ' 332', 'Plus': ' 385', 'Top': ' 445'}},\n",
       " {'Tiempos': {'Hora de salida': '18:37',\n",
       "   'Hora de llegada': '05:50',\n",
       "   'Duración': 'PT31H13M'},\n",
       "  'Escalas': [{'Aeropuerto': 'Carrasco Intl.',\n",
       "    'Hora de salida': '18:37',\n",
       "    'Duración p/ escala': '2:33',\n",
       "    'Info de conexión': 'Conexión en Santiago de Chile -- (cambio de avión)',\n",
       "    'Flota': 'LA409',\n",
       "    'Avión': 'Airbus 320-200'},\n",
       "   {'Aeropuerto': 'A. Merino Benítez Intl.',\n",
       "    'Hora de salida': '08:16',\n",
       "    'Duración p/ escala': '3:44',\n",
       "    'Info de conexión': 'Conexión en Santiago de Chile -- (cambio de avión)',\n",
       "    'Flota': 'LA409',\n",
       "    'Avión': 'Airbus 320-200'},\n",
       "   {'Aeropuerto': 'J Chávez Intl.',\n",
       "    'Hora de salida': '12:25',\n",
       "    'Duración p/ escala': '11:25',\n",
       "    'Info de conexión': 'Conexión en Santiago de Chile -- (cambio de avión)',\n",
       "    'Flota': 'LA409',\n",
       "    'Avión': 'Airbus 320-200'}],\n",
       "  'Tarifas': {'Light': ' 332', 'Plus': ' 385', 'Top': ' 445'}}]"
      ]
     },
     "execution_count": 84,
     "metadata": {},
     "output_type": "execute_result"
    }
   ],
   "source": [
    "main_get_info(driver)"
   ]
  },
  {
   "cell_type": "code",
   "execution_count": null,
   "metadata": {},
   "outputs": [],
   "source": []
  }
 ],
 "metadata": {
  "colab": {
   "name": "LATAM Airlines scraper.ipynb",
   "provenance": []
  },
  "kernelspec": {
   "display_name": "Python 3",
   "language": "python",
   "name": "python3"
  },
  "language_info": {
   "codemirror_mode": {
    "name": "ipython",
    "version": 3
   },
   "file_extension": ".py",
   "mimetype": "text/x-python",
   "name": "python",
   "nbconvert_exporter": "python",
   "pygments_lexer": "ipython3",
   "version": "3.8.3"
  }
 },
 "nbformat": 4,
 "nbformat_minor": 1
}
