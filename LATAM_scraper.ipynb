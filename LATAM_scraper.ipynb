{
 "cells": [
  {
   "cell_type": "markdown",
   "metadata": {
    "colab_type": "text",
    "id": "Kpqd_2H7MCnd"
   },
   "source": [
    "# LATAM Airlines\n",
    "\n",
    "Scrapear el sitio de Despegar para averiguar datos de vuelos en función del **origen** y **destino**, **fecha** y **cabina**. La información que esperamos obtener de cada vuelo es:\n",
    "\n",
    "- Precios(s) disponibles\n",
    "- Horas de salida y llegada (duración)\n",
    "- Información de las escalas\n",
    "\n",
    "**NOTA**: en caso de no poder acceder (status_code = 403), buscar un sitio similar.\n",
    "\n",
    "www.edestinos.com"
   ]
  },
  {
   "cell_type": "code",
   "execution_count": 1,
   "metadata": {
    "colab": {},
    "colab_type": "code",
    "id": "NjsV4yroL64O"
   },
   "outputs": [],
   "source": [
    "import requests\n",
    "from bs4 import BeautifulSoup"
   ]
  },
  {
   "cell_type": "code",
   "execution_count": 70,
   "metadata": {
    "colab": {},
    "colab_type": "code",
    "id": "lep5CmgAMKOp"
   },
   "outputs": [],
   "source": [
    "#url = 'https://www.edestinos.com/flights/select/oneway/ap/mvd/ap/for?departureDate=2020-12-10&pa=1&py=0&pc=0&pi=0&sc=economy'"
   ]
  },
  {
   "cell_type": "code",
   "execution_count": 27,
   "metadata": {},
   "outputs": [],
   "source": [
    "url = 'https://www.latam.com/es_uy/apps/personas/booking?fecha1_dia=04&fecha1_anomes=2020-11&from_city1=MVD&to_city1=MAD&ida_vuelta=ida_vuelta&fecha2_dia=21&fecha2_anomes=2020-11&from_city2=MAD&to_city2=MVD&cabina=Y&nadults=1&nchildren=0&ninfants=0&app=deal-finder#/'"
   ]
  },
  {
   "cell_type": "code",
   "execution_count": 28,
   "metadata": {
    "colab": {},
    "colab_type": "code",
    "id": "Y0m1d0YvMOSf"
   },
   "outputs": [],
   "source": [
    "r = requests.get(url)"
   ]
  },
  {
   "cell_type": "code",
   "execution_count": 29,
   "metadata": {
    "colab": {
     "base_uri": "https://localhost:8080/",
     "height": 34
    },
    "colab_type": "code",
    "id": "JWaPeUvoMRTz",
    "outputId": "be2c9abd-58be-4993-e52d-74e58637b456"
   },
   "outputs": [
    {
     "data": {
      "text/plain": [
       "403"
      ]
     },
     "execution_count": 29,
     "metadata": {},
     "output_type": "execute_result"
    }
   ],
   "source": [
    "r.status_code"
   ]
  },
  {
   "cell_type": "code",
   "execution_count": 30,
   "metadata": {
    "colab": {},
    "colab_type": "code",
    "id": "y5ZN18kyMT8k"
   },
   "outputs": [],
   "source": [
    "soup = BeautifulSoup(r.text, 'lxml')"
   ]
  },
  {
   "cell_type": "code",
   "execution_count": 31,
   "metadata": {
    "colab": {},
    "colab_type": "code",
    "id": "lu-MkBkGMXZY"
   },
   "outputs": [],
   "source": [
    "# Importar Selenium (webdriver)\n",
    "\n",
    "from selenium import webdriver"
   ]
  },
  {
   "cell_type": "code",
   "execution_count": 32,
   "metadata": {},
   "outputs": [],
   "source": [
    "options = webdriver.ChromeOptions()\n",
    "options.add_argument('--incognito')\n",
    "\n",
    "driver = webdriver.Chrome(executable_path='chromedriver', options=options)\n"
   ]
  },
  {
   "cell_type": "code",
   "execution_count": 33,
   "metadata": {
    "colab": {},
    "colab_type": "code",
    "id": "YUBZrqeGMoQu"
   },
   "outputs": [],
   "source": [
    "driver.get(url)"
   ]
  },
  {
   "cell_type": "code",
   "execution_count": 34,
   "metadata": {},
   "outputs": [
    {
     "data": {
      "text/plain": [
       "5"
      ]
     },
     "execution_count": 34,
     "metadata": {},
     "output_type": "execute_result"
    }
   ],
   "source": [
    "# Extraer informacion de la pagina\n",
    "\n",
    "vuelos = driver.find_elements_by_xpath('//li[@class=\"flight\"]') # // buscar en todo el arbol\n",
    "len(vuelos)"
   ]
  },
  {
   "cell_type": "code",
   "execution_count": 35,
   "metadata": {},
   "outputs": [],
   "source": [
    "vuelo = vuelos[0]"
   ]
  },
  {
   "cell_type": "code",
   "execution_count": 36,
   "metadata": {},
   "outputs": [
    {
     "data": {
      "text/plain": [
       "<selenium.webdriver.remote.webelement.WebElement (session=\"03899af6faa4aed37a8c309863cb0388\", element=\"4f873ec1-6b92-42db-888f-fc4c5aa018dd\")>"
      ]
     },
     "execution_count": 36,
     "metadata": {},
     "output_type": "execute_result"
    }
   ],
   "source": [
    "vuelo"
   ]
  },
  {
   "cell_type": "markdown",
   "metadata": {},
   "source": [
    "**Extrayendo horarios y duración**"
   ]
  },
  {
   "cell_type": "code",
   "execution_count": 37,
   "metadata": {},
   "outputs": [
    {
     "data": {
      "text/plain": [
       "'11:18'"
      ]
     },
     "execution_count": 37,
     "metadata": {},
     "output_type": "execute_result"
    }
   ],
   "source": [
    "#Hora de partida\n",
    "vuelo.find_element_by_xpath('.//div[@class=\"departure\"]/time').get_attribute('datetime') # . buscar desde allí hacia abajo"
   ]
  },
  {
   "cell_type": "code",
   "execution_count": 38,
   "metadata": {},
   "outputs": [
    {
     "data": {
      "text/plain": [
       "'12:50'"
      ]
     },
     "execution_count": 38,
     "metadata": {},
     "output_type": "execute_result"
    }
   ],
   "source": [
    "#Hora de llegada\n",
    "vuelo.find_element_by_xpath('.//div[@class=\"arrival\"]/time').get_attribute('datetime')\n"
   ]
  },
  {
   "cell_type": "code",
   "execution_count": 39,
   "metadata": {},
   "outputs": [
    {
     "data": {
      "text/plain": [
       "'PT21H32M'"
      ]
     },
     "execution_count": 39,
     "metadata": {},
     "output_type": "execute_result"
    }
   ],
   "source": [
    "# Duración de vuelo\n",
    "vuelo.find_element_by_xpath('.//span[@class=\"duration\"]/time').get_attribute('datetime')"
   ]
  },
  {
   "cell_type": "markdown",
   "metadata": {},
   "source": [
    "**Contando escalas e interactuando con elementos del sitio**"
   ]
  },
  {
   "cell_type": "code",
   "execution_count": 40,
   "metadata": {},
   "outputs": [],
   "source": [
    "boton_escalas = vuelo.find_element_by_xpath('.//div[@class=\"flight-summary-stops-description\"]/button')"
   ]
  },
  {
   "cell_type": "code",
   "execution_count": 41,
   "metadata": {},
   "outputs": [],
   "source": [
    "boton_escalas.click() #click en boton"
   ]
  },
  {
   "cell_type": "code",
   "execution_count": 42,
   "metadata": {},
   "outputs": [
    {
     "data": {
      "text/plain": [
       "[<selenium.webdriver.remote.webelement.WebElement (session=\"03899af6faa4aed37a8c309863cb0388\", element=\"411ec2be-be6b-42ce-b0d9-f6a69ab079e2\")>,\n",
       " <selenium.webdriver.remote.webelement.WebElement (session=\"03899af6faa4aed37a8c309863cb0388\", element=\"e90cf7cd-a52f-46b8-9d2c-1c2a5f058859\")>]"
      ]
     },
     "execution_count": 42,
     "metadata": {},
     "output_type": "execute_result"
    }
   ],
   "source": [
    "# Segmentos del contenido en donde se ven las escalas\n",
    "segmentos = vuelo.find_elements_by_xpath('//div[@class=\"sc-hZSUBg gfeULV\"]/div[@class=\"sc-cLQEGU hyoued\"]')\n",
    "# Sin '.' porque busco todo el album.\n",
    "segmentos"
   ]
  },
  {
   "cell_type": "code",
   "execution_count": 43,
   "metadata": {},
   "outputs": [
    {
     "name": "stdout",
     "output_type": "stream",
     "text": [
      "El vuelo de MVD a MAD tiene 1 escala(s).\n"
     ]
    }
   ],
   "source": [
    "escalas = len(segmentos) - 1 # Porque cuenta desde salida/escala y escala/salida\n",
    "print(f'El vuelo de MVD a MAD tiene {escalas} escala(s).')"
   ]
  },
  {
   "cell_type": "markdown",
   "metadata": {},
   "source": [
    "**Desafío: Escalas**"
   ]
  },
  {
   "cell_type": "markdown",
   "metadata": {},
   "source": [
    "- **Escala #1**"
   ]
  },
  {
   "cell_type": "code",
   "execution_count": 44,
   "metadata": {},
   "outputs": [],
   "source": [
    "segmento = segmentos[0]"
   ]
  },
  {
   "cell_type": "code",
   "execution_count": 45,
   "metadata": {},
   "outputs": [
    {
     "data": {
      "text/plain": [
       "'Carrasco Intl.'"
      ]
     },
     "execution_count": 45,
     "metadata": {},
     "output_type": "execute_result"
    }
   ],
   "source": [
    "# Aeropuerto de salida\n",
    "segmento.find_element_by_xpath('.//div[@class=\"sc-iujRgT jEtESl\"]/span[@class=\"sc-eTuwsz eumCTU\"]/span[@class=\"sc-hXRMBi gVvErD\"]').text \n"
   ]
  },
  {
   "cell_type": "code",
   "execution_count": 46,
   "metadata": {},
   "outputs": [
    {
     "data": {
      "text/plain": [
       "'11:18'"
      ]
     },
     "execution_count": 46,
     "metadata": {},
     "output_type": "execute_result"
    }
   ],
   "source": [
    "# Hora de salida\n",
    "segmento.find_element_by_xpath('.//div[@class=\"sc-bwCtUz iybVbT\"]/time').get_attribute('datetime')"
   ]
  },
  {
   "cell_type": "code",
   "execution_count": 47,
   "metadata": {},
   "outputs": [
    {
     "data": {
      "text/plain": [
       "'Salida a las 11 Horas 18 Minutos, de Carrasco Intl.'"
      ]
     },
     "execution_count": 47,
     "metadata": {},
     "output_type": "execute_result"
    }
   ],
   "source": [
    "segmento.find_element_by_xpath('.//div[@class=\"sc-bwCtUz iybVbT\"]/span[@class=\"sr-only\"]').text"
   ]
  },
  {
   "cell_type": "code",
   "execution_count": 48,
   "metadata": {},
   "outputs": [
    {
     "data": {
      "text/plain": [
       "'2:32'"
      ]
     },
     "execution_count": 48,
     "metadata": {},
     "output_type": "execute_result"
    }
   ],
   "source": [
    "# Duración de vuelo a próxima escala\n",
    "segmento.find_element_by_xpath('.//div[@class=\"sc-eXEjpC fqUnRK\"]/span[@class=\"sc-esjQYD dMquDU\"]/time').get_attribute('datetime')"
   ]
  },
  {
   "cell_type": "code",
   "execution_count": 49,
   "metadata": {},
   "outputs": [
    {
     "name": "stdout",
     "output_type": "stream",
     "text": [
      "Conexión en Santiago de Chile -- (cambio de avión)\n"
     ]
    }
   ],
   "source": [
    "try:    \n",
    "    combinacion = segmento.find_element_by_xpath('//div[@class=\"sc-hMFtBS cfwWiO\"]/span[@class=\"connection-label sc-hORach NXcGo\"]').text\n",
    "    cambio_avion = segmento.find_element_by_xpath('//div[@class=\"sc-hMFtBS cfwWiO\"]/span[@class=\"connection-changes sc-hORach NXcGo\"]').text\n",
    "    print(f'{combinacion} -- {cambio_avion}')\n",
    "except:\n",
    "    print('Revise XPath.')\n",
    "    pass\n",
    "\n"
   ]
  },
  {
   "cell_type": "code",
   "execution_count": 58,
   "metadata": {},
   "outputs": [
    {
     "name": "stdout",
     "output_type": "stream",
     "text": [
      "Flota LA405 - Airbus 320-200\n"
     ]
    }
   ],
   "source": [
    "modelo_avion = segmento.find_element_by_xpath('//div[@class=\"airline-flight-details\"]/span[@class=\"sc-gzOgki uTyOl\"]').text\n",
    "flota = segmento.find_element_by_xpath('//div[@class=\"airline-flight-details\"]/b').text\n",
    "\n",
    "print(f'Flota {flota} - {modelo_avion}')"
   ]
  },
  {
   "cell_type": "markdown",
   "metadata": {},
   "source": [
    "- **Escala #2**"
   ]
  },
  {
   "cell_type": "code",
   "execution_count": 59,
   "metadata": {},
   "outputs": [],
   "source": [
    "segmento_2 = segmentos[1]"
   ]
  },
  {
   "cell_type": "code",
   "execution_count": 60,
   "metadata": {},
   "outputs": [
    {
     "data": {
      "text/plain": [
       "'A. Merino Benítez Intl.'"
      ]
     },
     "execution_count": 60,
     "metadata": {},
     "output_type": "execute_result"
    }
   ],
   "source": [
    "# Aeropuerto de salida\n",
    "segmento_2.find_element_by_xpath('.//div[@class=\"sc-iujRgT jEtESl\"]/span[@class=\"sc-eTuwsz eumCTU\"]/span[@class=\"sc-hXRMBi gVvErD\"]').text "
   ]
  },
  {
   "cell_type": "code",
   "execution_count": 61,
   "metadata": {},
   "outputs": [
    {
     "data": {
      "text/plain": [
       "'19:55'"
      ]
     },
     "execution_count": 61,
     "metadata": {},
     "output_type": "execute_result"
    }
   ],
   "source": [
    "# Hora de salida\n",
    "segmento_2.find_element_by_xpath('.//div[@class=\"sc-bwCtUz iybVbT\"]/time').get_attribute('datetime')"
   ]
  },
  {
   "cell_type": "code",
   "execution_count": 62,
   "metadata": {},
   "outputs": [
    {
     "data": {
      "text/plain": [
       "'Salida a las 19 Horas 55 Minutos, de A. Merino Benítez Intl.'"
      ]
     },
     "execution_count": 62,
     "metadata": {},
     "output_type": "execute_result"
    }
   ],
   "source": [
    "segmento_2.find_element_by_xpath('.//div[@class=\"sc-bwCtUz iybVbT\"]/span[@class=\"sr-only\"]').text\n"
   ]
  },
  {
   "cell_type": "code",
   "execution_count": 63,
   "metadata": {},
   "outputs": [
    {
     "data": {
      "text/plain": [
       "'12:55'"
      ]
     },
     "execution_count": 63,
     "metadata": {},
     "output_type": "execute_result"
    }
   ],
   "source": [
    "# Duración de vuelo a próxima escala\n",
    "segmento_2.find_element_by_xpath('.//div[@class=\"sc-eXEjpC fqUnRK\"]/span[@class=\"sc-esjQYD dMquDU\"]/time').get_attribute('datetime')"
   ]
  },
  {
   "cell_type": "code",
   "execution_count": 85,
   "metadata": {},
   "outputs": [
    {
     "ename": "StaleElementReferenceException",
     "evalue": "Message: stale element reference: element is not attached to the page document\n  (Session info: chrome=85.0.4183.102)\n",
     "output_type": "error",
     "traceback": [
      "\u001b[1;31m---------------------------------------------------------------------------\u001b[0m",
      "\u001b[1;31mStaleElementReferenceException\u001b[0m            Traceback (most recent call last)",
      "\u001b[1;32m<ipython-input-85-90bd839aa3bb>\u001b[0m in \u001b[0;36m<module>\u001b[1;34m\u001b[0m\n\u001b[1;32m----> 1\u001b[1;33m \u001b[0mmodelo_avion\u001b[0m \u001b[1;33m=\u001b[0m \u001b[0msegmento_2\u001b[0m\u001b[1;33m.\u001b[0m\u001b[0mfind_element_by_xpath\u001b[0m\u001b[1;33m(\u001b[0m\u001b[1;34m'//div[@class=\"airline-flight-details\"]/span[@class=\"sc-gzOgki uTyOl\"]'\u001b[0m\u001b[1;33m)\u001b[0m\u001b[1;33m.\u001b[0m\u001b[0mtext\u001b[0m\u001b[1;33m\u001b[0m\u001b[1;33m\u001b[0m\u001b[0m\n\u001b[0m\u001b[0;32m      2\u001b[0m \u001b[1;31m#flota = segmento_2.find_element_by_xpath('//div[@class=\"airline-flight-details\"]/b').text\u001b[0m\u001b[1;33m\u001b[0m\u001b[1;33m\u001b[0m\u001b[1;33m\u001b[0m\u001b[0m\n\u001b[0;32m      3\u001b[0m \u001b[1;33m\u001b[0m\u001b[0m\n\u001b[0;32m      4\u001b[0m \u001b[0mmodelo_avion\u001b[0m\u001b[1;33m\u001b[0m\u001b[1;33m\u001b[0m\u001b[0m\n",
      "\u001b[1;32mC:\\ProgramData\\Anaconda3\\lib\\site-packages\\selenium\\webdriver\\remote\\webelement.py\u001b[0m in \u001b[0;36mfind_element_by_xpath\u001b[1;34m(self, xpath)\u001b[0m\n\u001b[0;32m    349\u001b[0m             \u001b[0melement\u001b[0m \u001b[1;33m=\u001b[0m \u001b[0melement\u001b[0m\u001b[1;33m.\u001b[0m\u001b[0mfind_element_by_xpath\u001b[0m\u001b[1;33m(\u001b[0m\u001b[1;34m'//div/td[1]'\u001b[0m\u001b[1;33m)\u001b[0m\u001b[1;33m\u001b[0m\u001b[1;33m\u001b[0m\u001b[0m\n\u001b[0;32m    350\u001b[0m         \"\"\"\n\u001b[1;32m--> 351\u001b[1;33m         \u001b[1;32mreturn\u001b[0m \u001b[0mself\u001b[0m\u001b[1;33m.\u001b[0m\u001b[0mfind_element\u001b[0m\u001b[1;33m(\u001b[0m\u001b[0mby\u001b[0m\u001b[1;33m=\u001b[0m\u001b[0mBy\u001b[0m\u001b[1;33m.\u001b[0m\u001b[0mXPATH\u001b[0m\u001b[1;33m,\u001b[0m \u001b[0mvalue\u001b[0m\u001b[1;33m=\u001b[0m\u001b[0mxpath\u001b[0m\u001b[1;33m)\u001b[0m\u001b[1;33m\u001b[0m\u001b[1;33m\u001b[0m\u001b[0m\n\u001b[0m\u001b[0;32m    352\u001b[0m \u001b[1;33m\u001b[0m\u001b[0m\n\u001b[0;32m    353\u001b[0m     \u001b[1;32mdef\u001b[0m \u001b[0mfind_elements_by_xpath\u001b[0m\u001b[1;33m(\u001b[0m\u001b[0mself\u001b[0m\u001b[1;33m,\u001b[0m \u001b[0mxpath\u001b[0m\u001b[1;33m)\u001b[0m\u001b[1;33m:\u001b[0m\u001b[1;33m\u001b[0m\u001b[1;33m\u001b[0m\u001b[0m\n",
      "\u001b[1;32mC:\\ProgramData\\Anaconda3\\lib\\site-packages\\selenium\\webdriver\\remote\\webelement.py\u001b[0m in \u001b[0;36mfind_element\u001b[1;34m(self, by, value)\u001b[0m\n\u001b[0;32m    656\u001b[0m                 \u001b[0mvalue\u001b[0m \u001b[1;33m=\u001b[0m \u001b[1;34m'[name=\"%s\"]'\u001b[0m \u001b[1;33m%\u001b[0m \u001b[0mvalue\u001b[0m\u001b[1;33m\u001b[0m\u001b[1;33m\u001b[0m\u001b[0m\n\u001b[0;32m    657\u001b[0m \u001b[1;33m\u001b[0m\u001b[0m\n\u001b[1;32m--> 658\u001b[1;33m         return self._execute(Command.FIND_CHILD_ELEMENT,\n\u001b[0m\u001b[0;32m    659\u001b[0m                              {\"using\": by, \"value\": value})['value']\n\u001b[0;32m    660\u001b[0m \u001b[1;33m\u001b[0m\u001b[0m\n",
      "\u001b[1;32mC:\\ProgramData\\Anaconda3\\lib\\site-packages\\selenium\\webdriver\\remote\\webelement.py\u001b[0m in \u001b[0;36m_execute\u001b[1;34m(self, command, params)\u001b[0m\n\u001b[0;32m    631\u001b[0m             \u001b[0mparams\u001b[0m \u001b[1;33m=\u001b[0m \u001b[1;33m{\u001b[0m\u001b[1;33m}\u001b[0m\u001b[1;33m\u001b[0m\u001b[1;33m\u001b[0m\u001b[0m\n\u001b[0;32m    632\u001b[0m         \u001b[0mparams\u001b[0m\u001b[1;33m[\u001b[0m\u001b[1;34m'id'\u001b[0m\u001b[1;33m]\u001b[0m \u001b[1;33m=\u001b[0m \u001b[0mself\u001b[0m\u001b[1;33m.\u001b[0m\u001b[0m_id\u001b[0m\u001b[1;33m\u001b[0m\u001b[1;33m\u001b[0m\u001b[0m\n\u001b[1;32m--> 633\u001b[1;33m         \u001b[1;32mreturn\u001b[0m \u001b[0mself\u001b[0m\u001b[1;33m.\u001b[0m\u001b[0m_parent\u001b[0m\u001b[1;33m.\u001b[0m\u001b[0mexecute\u001b[0m\u001b[1;33m(\u001b[0m\u001b[0mcommand\u001b[0m\u001b[1;33m,\u001b[0m \u001b[0mparams\u001b[0m\u001b[1;33m)\u001b[0m\u001b[1;33m\u001b[0m\u001b[1;33m\u001b[0m\u001b[0m\n\u001b[0m\u001b[0;32m    634\u001b[0m \u001b[1;33m\u001b[0m\u001b[0m\n\u001b[0;32m    635\u001b[0m     \u001b[1;32mdef\u001b[0m \u001b[0mfind_element\u001b[0m\u001b[1;33m(\u001b[0m\u001b[0mself\u001b[0m\u001b[1;33m,\u001b[0m \u001b[0mby\u001b[0m\u001b[1;33m=\u001b[0m\u001b[0mBy\u001b[0m\u001b[1;33m.\u001b[0m\u001b[0mID\u001b[0m\u001b[1;33m,\u001b[0m \u001b[0mvalue\u001b[0m\u001b[1;33m=\u001b[0m\u001b[1;32mNone\u001b[0m\u001b[1;33m)\u001b[0m\u001b[1;33m:\u001b[0m\u001b[1;33m\u001b[0m\u001b[1;33m\u001b[0m\u001b[0m\n",
      "\u001b[1;32mC:\\ProgramData\\Anaconda3\\lib\\site-packages\\selenium\\webdriver\\remote\\webdriver.py\u001b[0m in \u001b[0;36mexecute\u001b[1;34m(self, driver_command, params)\u001b[0m\n\u001b[0;32m    319\u001b[0m         \u001b[0mresponse\u001b[0m \u001b[1;33m=\u001b[0m \u001b[0mself\u001b[0m\u001b[1;33m.\u001b[0m\u001b[0mcommand_executor\u001b[0m\u001b[1;33m.\u001b[0m\u001b[0mexecute\u001b[0m\u001b[1;33m(\u001b[0m\u001b[0mdriver_command\u001b[0m\u001b[1;33m,\u001b[0m \u001b[0mparams\u001b[0m\u001b[1;33m)\u001b[0m\u001b[1;33m\u001b[0m\u001b[1;33m\u001b[0m\u001b[0m\n\u001b[0;32m    320\u001b[0m         \u001b[1;32mif\u001b[0m \u001b[0mresponse\u001b[0m\u001b[1;33m:\u001b[0m\u001b[1;33m\u001b[0m\u001b[1;33m\u001b[0m\u001b[0m\n\u001b[1;32m--> 321\u001b[1;33m             \u001b[0mself\u001b[0m\u001b[1;33m.\u001b[0m\u001b[0merror_handler\u001b[0m\u001b[1;33m.\u001b[0m\u001b[0mcheck_response\u001b[0m\u001b[1;33m(\u001b[0m\u001b[0mresponse\u001b[0m\u001b[1;33m)\u001b[0m\u001b[1;33m\u001b[0m\u001b[1;33m\u001b[0m\u001b[0m\n\u001b[0m\u001b[0;32m    322\u001b[0m             response['value'] = self._unwrap_value(\n\u001b[0;32m    323\u001b[0m                 response.get('value', None))\n",
      "\u001b[1;32mC:\\ProgramData\\Anaconda3\\lib\\site-packages\\selenium\\webdriver\\remote\\errorhandler.py\u001b[0m in \u001b[0;36mcheck_response\u001b[1;34m(self, response)\u001b[0m\n\u001b[0;32m    240\u001b[0m                 \u001b[0malert_text\u001b[0m \u001b[1;33m=\u001b[0m \u001b[0mvalue\u001b[0m\u001b[1;33m[\u001b[0m\u001b[1;34m'alert'\u001b[0m\u001b[1;33m]\u001b[0m\u001b[1;33m.\u001b[0m\u001b[0mget\u001b[0m\u001b[1;33m(\u001b[0m\u001b[1;34m'text'\u001b[0m\u001b[1;33m)\u001b[0m\u001b[1;33m\u001b[0m\u001b[1;33m\u001b[0m\u001b[0m\n\u001b[0;32m    241\u001b[0m             \u001b[1;32mraise\u001b[0m \u001b[0mexception_class\u001b[0m\u001b[1;33m(\u001b[0m\u001b[0mmessage\u001b[0m\u001b[1;33m,\u001b[0m \u001b[0mscreen\u001b[0m\u001b[1;33m,\u001b[0m \u001b[0mstacktrace\u001b[0m\u001b[1;33m,\u001b[0m \u001b[0malert_text\u001b[0m\u001b[1;33m)\u001b[0m\u001b[1;33m\u001b[0m\u001b[1;33m\u001b[0m\u001b[0m\n\u001b[1;32m--> 242\u001b[1;33m         \u001b[1;32mraise\u001b[0m \u001b[0mexception_class\u001b[0m\u001b[1;33m(\u001b[0m\u001b[0mmessage\u001b[0m\u001b[1;33m,\u001b[0m \u001b[0mscreen\u001b[0m\u001b[1;33m,\u001b[0m \u001b[0mstacktrace\u001b[0m\u001b[1;33m)\u001b[0m\u001b[1;33m\u001b[0m\u001b[1;33m\u001b[0m\u001b[0m\n\u001b[0m\u001b[0;32m    243\u001b[0m \u001b[1;33m\u001b[0m\u001b[0m\n\u001b[0;32m    244\u001b[0m     \u001b[1;32mdef\u001b[0m \u001b[0m_value_or_default\u001b[0m\u001b[1;33m(\u001b[0m\u001b[0mself\u001b[0m\u001b[1;33m,\u001b[0m \u001b[0mobj\u001b[0m\u001b[1;33m,\u001b[0m \u001b[0mkey\u001b[0m\u001b[1;33m,\u001b[0m \u001b[0mdefault\u001b[0m\u001b[1;33m)\u001b[0m\u001b[1;33m:\u001b[0m\u001b[1;33m\u001b[0m\u001b[1;33m\u001b[0m\u001b[0m\n",
      "\u001b[1;31mStaleElementReferenceException\u001b[0m: Message: stale element reference: element is not attached to the page document\n  (Session info: chrome=85.0.4183.102)\n"
     ]
    }
   ],
   "source": [
    "modelo_avion = segmento_2.find_elements_by_xpath('//div[@class=\"airline-flight-details\"]/span[@class=\"sc-gzOgki uTyOl\"]').text\n",
    "#flota = segmento_2.find_element_by_xpath('//div[@class=\"airline-flight-details\"]/b').text\n",
    "\n"
   ]
  },
  {
   "cell_type": "markdown",
   "metadata": {},
   "source": [
    "- **Tarifas**"
   ]
  },
  {
   "cell_type": "code",
   "execution_count": 65,
   "metadata": {},
   "outputs": [],
   "source": [
    "driver.find_element_by_xpath('//div[@class=\"modal-content sc-iwsKbI eHVGAN\"]//button[@class=\"close\"]').click()"
   ]
  },
  {
   "cell_type": "code",
   "execution_count": 66,
   "metadata": {},
   "outputs": [],
   "source": [
    "vuelo.click()"
   ]
  },
  {
   "cell_type": "code",
   "execution_count": 67,
   "metadata": {},
   "outputs": [
    {
     "data": {
      "text/plain": [
       "[<selenium.webdriver.remote.webelement.WebElement (session=\"03899af6faa4aed37a8c309863cb0388\", element=\"1c2cf6eb-d519-4965-9736-d10748910e88\")>,\n",
       " <selenium.webdriver.remote.webelement.WebElement (session=\"03899af6faa4aed37a8c309863cb0388\", element=\"17337ee3-98d1-4fe0-913e-3b5f67f61abf\")>,\n",
       " <selenium.webdriver.remote.webelement.WebElement (session=\"03899af6faa4aed37a8c309863cb0388\", element=\"27763bbf-081f-4c3c-a59b-1a86db84735b\")>]"
      ]
     },
     "execution_count": 67,
     "metadata": {},
     "output_type": "execute_result"
    }
   ],
   "source": [
    "divisas = vuelo.find_elements_by_xpath('.//div[@class=\"fares-table-container\"]//tfoot//td[contains(@class, \"fare-\")]//span[@class=\"currency-symbol\"]')\n",
    "valores = vuelo.find_elements_by_xpath('.//div[@class=\"fares-table-container\"]//tfoot//td[contains(@class, \"fare-\")]//span[@class=\"value\"]')\n",
    "\n",
    "divisas"
   ]
  },
  {
   "cell_type": "code",
   "execution_count": 68,
   "metadata": {},
   "outputs": [
    {
     "data": {
      "text/plain": [
       "'US$'"
      ]
     },
     "execution_count": 68,
     "metadata": {},
     "output_type": "execute_result"
    }
   ],
   "source": [
    "divisa = divisas[0]\n",
    "divisa.text"
   ]
  },
  {
   "cell_type": "code",
   "execution_count": 69,
   "metadata": {},
   "outputs": [
    {
     "name": "stdout",
     "output_type": "stream",
     "text": [
      "US$332\n"
     ]
    }
   ],
   "source": [
    "moneda = valores[0]\n",
    "print(divisa.text + moneda.text)"
   ]
  },
  {
   "cell_type": "code",
   "execution_count": 70,
   "metadata": {},
   "outputs": [
    {
     "data": {
      "text/plain": [
       "{'Light': 'US$ 332', 'Plus': 'US$ 385', 'Top': 'US$ 445'}"
      ]
     },
     "execution_count": 70,
     "metadata": {},
     "output_type": "execute_result"
    }
   ],
   "source": [
    "caca = []\n",
    "\n",
    "for d in divisas:\n",
    "    for v in valores:\n",
    "        precio = d.text + ' ' + v.text\n",
    "        caca.append(precio)\n",
    "    break\n",
    "\n",
    "\n",
    "tarifas = {\n",
    "    'Light':caca[0],\n",
    "    'Plus':caca[1],\n",
    "    'Top':caca[2]\n",
    "}\n",
    "tarifas"
   ]
  },
  {
   "cell_type": "code",
   "execution_count": 73,
   "metadata": {},
   "outputs": [],
   "source": [
    "vuelo.click()"
   ]
  },
  {
   "cell_type": "code",
   "execution_count": 74,
   "metadata": {},
   "outputs": [],
   "source": [
    "def _get_tarifa(vuelo):\n",
    "\tdivisas = vuelo.find_elements_by_xpath('.//div[@class=\"fares-table-container\"]//tfoot//td[contains(@class, \"fare-\")]//span[@class=\"currency-symbol\"]')\n",
    "\tvalores = vuelo.find_elements_by_xpath('.//div[@class=\"fares-table-container\"]//tfoot//td[contains(@class, \"fare-\")]//span[@class=\"value\"]')\n",
    "\n",
    "\tprecios = []\n",
    "\n",
    "\tfor d in divisas:\n",
    "\t\tfor v in valores:\n",
    "\t\t\tprecio = d.text + ' ' + v.text\n",
    "\t\t\tprecios.append(precio)\n",
    "\t\tbreak\n",
    "\t\n",
    "\n",
    "\ttarifas = {\n",
    "\t\t'Light':precios[0],\n",
    "    \t'Plus':precios[1],\n",
    "    \t'Top':precios[2]\n",
    "\t\t}\n",
    "\n",
    "\treturn tarifas\n",
    "\n",
    "def _get_escalas(vuelo):\n",
    "\t# Segmentos del contenido en donde se ven las escalas\n",
    "\tsegmentos = vuelo.find_elements_by_xpath('//div[@class=\"sc-hZSUBg gfeULV\"]/div[@class=\"sc-cLQEGU hyoued\"]')\n",
    "\tescalas = len(segmentos) - 1 # Porque cuenta desde salida/escala y escala/salida\n",
    "\tprint(f'El vuelo de MVD a MAD tiene {escalas} escala(s).')\n",
    "\n",
    "\tinfo_escalas = []\n",
    "\tfor segmento in segmentos:\n",
    "\t\t# Aeropuerto de salida\n",
    "\t\tairport = segmento.find_element_by_xpath('.//div[@class=\"sc-iujRgT jEtESl\"]/span[@class=\"sc-eTuwsz eumCTU\"]/span[@class=\"sc-hXRMBi gVvErD\"]').text \n",
    "\t\t# Hora de salida\n",
    "\t\th_salida = segmento.find_element_by_xpath('.//div[@class=\"sc-bwCtUz iybVbT\"]/time').get_attribute('datetime')\n",
    "\t\t# Duración de vuelo a próxima escala\n",
    "\t\tduracion = segmento.find_element_by_xpath('.//div[@class=\"sc-eXEjpC fqUnRK\"]/span[@class=\"sc-esjQYD dMquDU\"]/time').get_attribute('datetime')\n",
    "\t\t# Info de combinación\n",
    "\t\ttry:    \n",
    "\t\t    combinacion = segmento.find_element_by_xpath('//div[@class=\"sc-hMFtBS cfwWiO\"]/span[@class=\"connection-label sc-hORach NXcGo\"]').text\n",
    "\t\t    cambio_avion = segmento.find_element_by_xpath('//div[@class=\"sc-hMFtBS cfwWiO\"]/span[@class=\"connection-changes sc-hORach NXcGo\"]').text\n",
    "\t\t    info = f'{combinacion} -- {cambio_avion}'\n",
    "\t\texcept:\n",
    "\t\t    print('Revise XPath.')\n",
    "\t\t    pass\n",
    "\t\t# Flota\n",
    "\t\tflota = segmento.find_element_by_xpath('//div[@class=\"airline-flight-details\"]/b').text\n",
    "\t\t# Modelo de avón\n",
    "\t\tmodelo_avion = segmento.find_element_by_xpath('//div[@class=\"airline-flight-details\"]/span[@class=\"sc-gzOgki uTyOl\"]').text\n",
    "\n",
    "\t\tdata_escalas = {\n",
    "\t\t\t'Aeropuerto': airport,\n",
    "\t\t\t'Hora de salida': h_salida,\n",
    "\t\t\t'Duración p/ escala': duracion,\n",
    "\t\t\t'Info de conexión': info,\n",
    "\t\t\t'Flota': flota,\n",
    "\t\t\t'Avión': modelo_avion\n",
    "\t\t}\n",
    "\t\tinfo_escalas.append(data_escalas)\n",
    "\n",
    "\treturn info_escalas\n",
    "\n",
    "def _get_tiempos(vuelo):\n",
    "\t\n",
    "\t#Hora de partida\n",
    "\th_salida = vuelo.find_element_by_xpath('.//div[@class=\"departure\"]/time').get_attribute('datetime')\n",
    "\t#Hora de llegada\n",
    "\th_llegada = vuelo.find_element_by_xpath('.//div[@class=\"arrival\"]/time').get_attribute('datetime')\n",
    "\t# Duración de vuelo\n",
    "\tduracion = vuelo.find_element_by_xpath('.//span[@class=\"duration\"]/time').get_attribute('datetime')\n",
    "\n",
    "\tdata_tiempos = {\n",
    "\t\t'Hora de salida':h_salida,\n",
    "\t\t'Hora de llegada':h_llegada,\n",
    "\t\t'Duración':duracion\n",
    "\t}\n",
    "\treturn data_tiempos\n",
    "\n",
    "def main_get_info(driver):\n",
    "\t\n",
    "\t# Extraer informacion de la pagina\n",
    "\tvueles = vuelos\n",
    "\tprint(f'Se encontraron {len(vuelos)} vuelos.')\n",
    "\tprint('Iniciando scraping...')\n",
    "\tinfo = []\n",
    "\tfor vuelo in vueles:\n",
    "\t\ttiempos = _get_tiempos(vuelo)\n",
    "\t\t\n",
    "\t\t# Click en modal para conocer escalas\n",
    "\t\tboton_escalas = vuelo.find_element_by_xpath('.//div[@class=\"flight-summary-stops-description\"]/button')\n",
    "\t\tboton_escalas.click()\n",
    "\n",
    "\t\t# Obtener escalas\n",
    "\t\tescalas = _get_escalas(vuelo)\n",
    "\t\t\n",
    "\t\t# Cerrar modal\n",
    "\t\tcerrar_modal = driver.find_element_by_xpath('//div[@class=\"modal-content sc-iwsKbI eHVGAN\"]//button[@class=\"close\"]')\n",
    "\t\tcerrar_modal.click()\n",
    "\t\tvuelo.click()\n",
    "\n",
    "\t\t# Obtener tarifas\n",
    "\t\ttarifas = _get_tarifa(vuelo)\n",
    "\n",
    "\t\tdata_info = {\n",
    "\t\t\t'Tiempos':tiempos,\n",
    "\t\t\t'Escalas':escalas,\n",
    "\t\t\t'Tarifas':tarifas\n",
    "\t\t}\n",
    "\t\tinfo.append(data_info)\n",
    "\n",
    "\treturn info\n"
   ]
  },
  {
   "cell_type": "code",
   "execution_count": 75,
   "metadata": {},
   "outputs": [
    {
     "name": "stdout",
     "output_type": "stream",
     "text": [
      "Se encontraron 5 vuelos.\n",
      "Iniciando scraping...\n",
      "El vuelo de MVD a MAD tiene 1 escala(s).\n",
      "El vuelo de MVD a MAD tiene 2 escala(s).\n",
      "El vuelo de MVD a MAD tiene 2 escala(s).\n",
      "El vuelo de MVD a MAD tiene 2 escala(s).\n",
      "El vuelo de MVD a MAD tiene 2 escala(s).\n"
     ]
    },
    {
     "data": {
      "text/plain": [
       "[{'Tiempos': {'Hora de salida': '11:18',\n",
       "   'Hora de llegada': '12:50',\n",
       "   'Duración': 'PT21H32M'},\n",
       "  'Escalas': [{'Aeropuerto': 'Carrasco Intl.',\n",
       "    'Hora de salida': '11:18',\n",
       "    'Duración p/ escala': '2:32',\n",
       "    'Info de conexión': 'Conexión en Santiago de Chile -- (cambio de avión)',\n",
       "    'Flota': 'LA405',\n",
       "    'Avión': 'Airbus 320-200'},\n",
       "   {'Aeropuerto': 'A. Merino Benítez Intl.',\n",
       "    'Hora de salida': '19:55',\n",
       "    'Duración p/ escala': '12:55',\n",
       "    'Info de conexión': 'Conexión en Santiago de Chile -- (cambio de avión)',\n",
       "    'Flota': 'LA405',\n",
       "    'Avión': 'Airbus 320-200'}],\n",
       "  'Tarifas': {'Light': ' 332', 'Plus': 'US$ 385', 'Top': 'US$ 445'}},\n",
       " {'Tiempos': {'Hora de salida': '18:37',\n",
       "   'Hora de llegada': '13:10',\n",
       "   'Duración': 'PT38H33M'},\n",
       "  'Escalas': [{'Aeropuerto': 'Carrasco Intl.',\n",
       "    'Hora de salida': '18:37',\n",
       "    'Duración p/ escala': '2:33',\n",
       "    'Info de conexión': 'Conexión en Santiago de Chile -- (cambio de avión)',\n",
       "    'Flota': 'LA409',\n",
       "    'Avión': 'Airbus 320-200'},\n",
       "   {'Aeropuerto': 'A. Merino Benítez Intl.',\n",
       "    'Hora de salida': '06:20',\n",
       "    'Duración p/ escala': '3:45',\n",
       "    'Info de conexión': 'Conexión en Santiago de Chile -- (cambio de avión)',\n",
       "    'Flota': 'LA409',\n",
       "    'Avión': 'Airbus 320-200'},\n",
       "   {'Aeropuerto': 'Guarulhos Intl.',\n",
       "    'Hora de salida': '22:55',\n",
       "    'Duración p/ escala': '10:15',\n",
       "    'Info de conexión': 'Conexión en Santiago de Chile -- (cambio de avión)',\n",
       "    'Flota': 'LA409',\n",
       "    'Avión': 'Airbus 320-200'}],\n",
       "  'Tarifas': {'Light': ' 359', 'Plus': 'US$ 415', 'Top': 'US$ 477'}},\n",
       " {'Tiempos': {'Hora de salida': '18:37',\n",
       "   'Hora de llegada': '17:05',\n",
       "   'Duración': 'PT42H28M'},\n",
       "  'Escalas': [{'Aeropuerto': 'Carrasco Intl.',\n",
       "    'Hora de salida': '18:37',\n",
       "    'Duración p/ escala': '2:33',\n",
       "    'Info de conexión': 'Conexión en Santiago de Chile -- (cambio de avión)',\n",
       "    'Flota': 'LA409',\n",
       "    'Avión': 'Airbus 320-200'},\n",
       "   {'Aeropuerto': 'A. Merino Benítez Intl.',\n",
       "    'Hora de salida': '08:16',\n",
       "    'Duración p/ escala': '3:44',\n",
       "    'Info de conexión': 'Conexión en Santiago de Chile -- (cambio de avión)',\n",
       "    'Flota': 'LA409',\n",
       "    'Avión': 'Airbus 320-200'},\n",
       "   {'Aeropuerto': 'J Chávez Intl.',\n",
       "    'Hora de salida': '22:55',\n",
       "    'Duración p/ escala': '12:10',\n",
       "    'Info de conexión': 'Conexión en Santiago de Chile -- (cambio de avión)',\n",
       "    'Flota': 'LA409',\n",
       "    'Avión': 'Airbus 320-200'}],\n",
       "  'Tarifas': {'Light': 'US$ 480', 'Plus': 'US$ 435', 'Top': 'US$ 503'}},\n",
       " {'Tiempos': {'Hora de salida': '18:37',\n",
       "   'Hora de llegada': '05:50',\n",
       "   'Duración': 'PT31H13M'},\n",
       "  'Escalas': [{'Aeropuerto': 'Carrasco Intl.',\n",
       "    'Hora de salida': '18:37',\n",
       "    'Duración p/ escala': '2:33',\n",
       "    'Info de conexión': 'Conexión en Santiago de Chile -- (cambio de avión)',\n",
       "    'Flota': 'LA409',\n",
       "    'Avión': 'Airbus 320-200'},\n",
       "   {'Aeropuerto': 'A. Merino Benítez Intl.',\n",
       "    'Hora de salida': '05:21',\n",
       "    'Duración p/ escala': '3:44',\n",
       "    'Info de conexión': 'Conexión en Santiago de Chile -- (cambio de avión)',\n",
       "    'Flota': 'LA409',\n",
       "    'Avión': 'Airbus 320-200'},\n",
       "   {'Aeropuerto': 'J Chávez Intl.',\n",
       "    'Hora de salida': '12:25',\n",
       "    'Duración p/ escala': '11:25',\n",
       "    'Info de conexión': 'Conexión en Santiago de Chile -- (cambio de avión)',\n",
       "    'Flota': 'LA409',\n",
       "    'Avión': 'Airbus 320-200'}],\n",
       "  'Tarifas': {'Light': ' 479', 'Plus': 'US$ 547', 'Top': 'US$ 626'}},\n",
       " {'Tiempos': {'Hora de salida': '18:37',\n",
       "   'Hora de llegada': '05:50',\n",
       "   'Duración': 'PT31H13M'},\n",
       "  'Escalas': [{'Aeropuerto': 'Carrasco Intl.',\n",
       "    'Hora de salida': '18:37',\n",
       "    'Duración p/ escala': '2:33',\n",
       "    'Info de conexión': 'Conexión en Santiago de Chile -- (cambio de avión)',\n",
       "    'Flota': 'LA409',\n",
       "    'Avión': 'Airbus 320-200'},\n",
       "   {'Aeropuerto': 'A. Merino Benítez Intl.',\n",
       "    'Hora de salida': '08:16',\n",
       "    'Duración p/ escala': '3:44',\n",
       "    'Info de conexión': 'Conexión en Santiago de Chile -- (cambio de avión)',\n",
       "    'Flota': 'LA409',\n",
       "    'Avión': 'Airbus 320-200'},\n",
       "   {'Aeropuerto': 'J Chávez Intl.',\n",
       "    'Hora de salida': '12:25',\n",
       "    'Duración p/ escala': '11:25',\n",
       "    'Info de conexión': 'Conexión en Santiago de Chile -- (cambio de avión)',\n",
       "    'Flota': 'LA409',\n",
       "    'Avión': 'Airbus 320-200'}],\n",
       "  'Tarifas': {'Light': ' 548', 'Plus': 'US$ 622', 'Top': 'US$ 708'}}]"
      ]
     },
     "execution_count": 75,
     "metadata": {},
     "output_type": "execute_result"
    }
   ],
   "source": [
    "LATAM_info = main_get_info(driver)\n",
    "LATAM_info"
   ]
  },
  {
   "cell_type": "code",
   "execution_count": 80,
   "metadata": {},
   "outputs": [],
   "source": [
    "import pandas as pd\n",
    "\n",
    "df = pd.DataFrame(LATAM_info)\n",
    "df.to_excel('LATAM MVD a MAD 2020.xls')"
   ]
  },
  {
   "cell_type": "code",
   "execution_count": 86,
   "metadata": {},
   "outputs": [],
   "source": [
    "driver.close()"
   ]
  },
  {
   "cell_type": "code",
   "execution_count": null,
   "metadata": {},
   "outputs": [],
   "source": []
  }
 ],
 "metadata": {
  "colab": {
   "name": "LATAM Airlines scraper.ipynb",
   "provenance": []
  },
  "kernelspec": {
   "display_name": "Python 3",
   "language": "python",
   "name": "python3"
  },
  "language_info": {
   "codemirror_mode": {
    "name": "ipython",
    "version": 3
   },
   "file_extension": ".py",
   "mimetype": "text/x-python",
   "name": "python",
   "nbconvert_exporter": "python",
   "pygments_lexer": "ipython3",
   "version": "3.8.3"
  }
 },
 "nbformat": 4,
 "nbformat_minor": 1
}
